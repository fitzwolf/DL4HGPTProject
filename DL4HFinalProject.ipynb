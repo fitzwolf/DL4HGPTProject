{
  "nbformat": 4,
  "nbformat_minor": 0,
  "metadata": {
    "colab": {
      "provenance": [],
      "authorship_tag": "ABX9TyNOdWuoOV/pdv1uiV72yXZM"
    },
    "kernelspec": {
      "name": "python3",
      "display_name": "Python 3"
    },
    "language_info": {
      "name": "python"
    }
  },
  "cells": [
    {
      "cell_type": "code",
      "source": [
        "import os\n",
        "import numpy as np\n",
        "import pandas as pd\n",
        "from tqdm import tqdm\n",
        "\n",
        "# --- Core Functions ---\n",
        "\n",
        "def simulate_hirid_patient_realistic_with_labels(seed=None, out_label=False):\n",
        "    if seed is not None:\n",
        "        np.random.seed(seed)\n",
        "\n",
        "    duration_days = np.random.randint(1, 15)\n",
        "    timesteps = duration_days * 24 * 12  # 5-min intervals\n",
        "    time_index = np.arange(0, timesteps * 5, 5)\n",
        "\n",
        "    # --- Signal Initialization ---\n",
        "    heart_rate = np.random.normal(80, 10, timesteps)\n",
        "    map_pressure = np.random.normal(75, 8, timesteps)\n",
        "    respiratory_rate = np.random.normal(18, 3, timesteps)\n",
        "    spo2 = np.random.normal(97, 2, timesteps)\n",
        "    temperature = np.random.normal(37.0, 0.5, timesteps)\n",
        "    lactate = np.random.normal(1.2, 0.4, timesteps)\n",
        "    creatinine = np.random.normal(1.0, 0.3, timesteps)\n",
        "    glucose = np.random.normal(110, 20, timesteps)\n",
        "    vasopressor_rate = np.zeros(timesteps)\n",
        "    mech_ventilation = np.zeros(timesteps)\n",
        "\n",
        "    label = 0  # Default to healthy (0)\n",
        "\n",
        "    # --- Insert Shock Event ---\n",
        "    if np.random.rand() < 0.4:\n",
        "        shock_start = np.random.randint(timesteps // 4, timesteps // 2)\n",
        "        shock_duration = np.random.randint(100, 500)\n",
        "        if shock_start + shock_duration > timesteps:\n",
        "            shock_duration = timesteps - shock_start\n",
        "        if shock_duration > 0:\n",
        "            heart_rate[shock_start:shock_start+shock_duration] += np.random.normal(10, 3, shock_duration)\n",
        "            map_pressure[shock_start:shock_start+shock_duration] -= np.random.normal(10, 3, shock_duration)\n",
        "            lactate[shock_start:shock_start+shock_duration] += np.random.normal(2, 0.5, shock_duration)\n",
        "            vasopressor_rate[shock_start:shock_start+shock_duration] = np.random.uniform(0.05, 0.2)\n",
        "            label = 1  # Shock\n",
        "\n",
        "    # --- Insert Respiratory Failure ---\n",
        "    if np.random.rand() < 0.4:\n",
        "        if timesteps > 1000:\n",
        "            resp_failure_start = np.random.randint(timesteps // 2, timesteps - 500)\n",
        "            resp_failure_duration = np.random.randint(100, 400)\n",
        "            if resp_failure_start + resp_failure_duration > timesteps:\n",
        "                resp_failure_duration = timesteps - resp_failure_start\n",
        "            if resp_failure_duration > 0:\n",
        "                spo2[resp_failure_start:resp_failure_start+resp_failure_duration] -= np.random.normal(10, 3, resp_failure_duration)\n",
        "                respiratory_rate[resp_failure_start:resp_failure_start+resp_failure_duration] += np.random.normal(5, 2, resp_failure_duration)\n",
        "                mech_ventilation[resp_failure_start:resp_failure_start+resp_failure_duration] = 1\n",
        "                label = 2  # Respiratory Failure\n",
        "\n",
        "    # --- Mild Drift ---\n",
        "    drift = np.cumsum(np.random.normal(0, 0.01, timesteps))\n",
        "    heart_rate += drift\n",
        "    map_pressure += np.random.normal(0, 0.5, timesteps)\n",
        "    respiratory_rate += np.random.normal(0, 0.5, timesteps)\n",
        "\n",
        "    # --- Clamp to Realistic Ranges ---\n",
        "    heart_rate = np.clip(heart_rate, 30, 200).astype(int)\n",
        "    map_pressure = np.clip(map_pressure, 30, 130).astype(int)\n",
        "    respiratory_rate = np.clip(respiratory_rate, 5, 50).astype(int)\n",
        "    spo2 = np.clip(spo2, 70, 100).astype(int)\n",
        "    temperature = np.clip(temperature, 35.0, 41.0)\n",
        "    lactate = np.clip(lactate, 0.5, 15.0)\n",
        "    creatinine = np.clip(creatinine, 0.2, 5.0)\n",
        "    glucose = np.clip(glucose, 40, 400).astype(int)\n",
        "    vasopressor_rate = np.round(vasopressor_rate, 3)\n",
        "    mech_ventilation = mech_ventilation.astype(int)\n",
        "\n",
        "    patient = np.stack([\n",
        "        heart_rate,\n",
        "        map_pressure,\n",
        "        respiratory_rate,\n",
        "        spo2,\n",
        "        temperature,\n",
        "        lactate,\n",
        "        creatinine,\n",
        "        glucose,\n",
        "        vasopressor_rate,\n",
        "        mech_ventilation\n",
        "    ], axis=0)\n",
        "\n",
        "    # --- Add Missingness ---\n",
        "    missing_rate = np.random.uniform(0.05, 0.15)\n",
        "    missing_mask = np.random.rand(*patient.shape) < missing_rate\n",
        "    patient[missing_mask] = 0\n",
        "\n",
        "    if np.random.rand() < 0.1:\n",
        "        for _ in range(np.random.randint(1, 3)):\n",
        "            block_signal = np.random.randint(0, patient.shape[0])\n",
        "            block_start = np.random.randint(0, max(1, patient.shape[1] - 200))\n",
        "            block_length = np.random.randint(50, 200)\n",
        "            patient[block_signal, block_start:block_start+block_length] = 0\n",
        "\n",
        "    if out_label:\n",
        "        return patient, label\n",
        "    else:\n",
        "        return patient\n",
        "\n",
        "# --- New Helper Function: Longevity Score\n",
        "def simulate_longevity_score(patient_signal):\n",
        "    \"\"\"\n",
        "    Proxy: higher vitals stability → longer survival.\n",
        "    \"\"\"\n",
        "    mean_vitals = np.mean(np.abs(patient_signal[0:4, :]))\n",
        "    noise = np.random.normal(0, 0.1)\n",
        "    score = mean_vitals + noise\n",
        "    return score\n",
        "\n",
        "# --- Updated Dataset Generation Function\n",
        "def simulate_hirid_dataset(save_dir, num_runs=10, patients_per_run=1000):\n",
        "    os.makedirs(save_dir, exist_ok=True)\n",
        "\n",
        "    for run_idx in range(num_runs):\n",
        "        print(f'Generating run {run_idx+1}/{num_runs}...')\n",
        "        patients = []\n",
        "        health_labels = []\n",
        "        longevity_scores = []\n",
        "\n",
        "        for _ in tqdm(range(patients_per_run)):\n",
        "            patient, health_label = simulate_hirid_patient_realistic_with_labels(out_label=True)\n",
        "            patients.append(patient)\n",
        "            health_labels.append(health_label)\n",
        "            longevity_scores.append(simulate_longevity_score(patient))\n",
        "\n",
        "        max_length = max([p.shape[1] for p in patients])\n",
        "\n",
        "        padded_patients = []\n",
        "        for patient in patients:\n",
        "            pad_width = max_length - patient.shape[1]\n",
        "            if pad_width > 0:\n",
        "                padded_patient = np.pad(patient, ((0,0), (0,pad_width)), 'constant')\n",
        "            else:\n",
        "                padded_patient = patient\n",
        "            padded_patients.append(padded_patient)\n",
        "\n",
        "        X_run = np.stack(padded_patients)\n",
        "        y_run = np.array(health_labels)\n",
        "        longevity_scores = np.array(longevity_scores)\n",
        "\n",
        "        # Create Longevity Labels\n",
        "        threshold = np.median(longevity_scores)\n",
        "        longevity_labels = (longevity_scores > threshold).astype(int)\n",
        "\n",
        "        run_folder = os.path.join(save_dir, f'run_{run_idx}')\n",
        "        os.makedirs(run_folder, exist_ok=True)\n",
        "        np.save(os.path.join(run_folder, 'X.npy'), X_run)\n",
        "        np.save(os.path.join(run_folder, 'y.npy'), y_run)\n",
        "        np.save(os.path.join(run_folder, 'longevity_labels.npy'), longevity_labels)\n",
        "\n",
        "        print(f'Saved run {run_idx}: X shape {X_run.shape}, y shape {y_run.shape}, longevity labels shape {longevity_labels.shape}')\n",
        "\n",
        "\n"
      ],
      "metadata": {
        "id": "qNzn9KNNnszv"
      },
      "execution_count": 42,
      "outputs": []
    },
    {
      "cell_type": "code",
      "source": [
        "def load_synthetic_batches(base_path, runs_to_load=None):\n",
        "    \"\"\"\n",
        "    base_path: path where all runs are saved\n",
        "    runs_to_load: list of run indices [0, 1, 2] to load, None = load all\n",
        "    \"\"\"\n",
        "    if runs_to_load is None:\n",
        "        runs_to_load = [int(d.split('_')[1]) for d in os.listdir(base_path) if d.startswith('run_')]\n",
        "\n",
        "    all_X = []\n",
        "\n",
        "    for run_idx in runs_to_load:\n",
        "        run_folder = os.path.join(base_path, f'run_{run_idx}')\n",
        "        print(f'Loading run {run_idx} from {run_folder}')\n",
        "        X_batch = np.load(os.path.join(run_folder, 'X.npy'))\n",
        "        all_X.append(X_batch)\n",
        "\n",
        "    X_full = np.concatenate(all_X, axis=0)\n",
        "    print(f'Total shape after loading: {X_full.shape}')\n",
        "    return X_full"
      ],
      "metadata": {
        "id": "SbEZ66IUnuFP"
      },
      "execution_count": 43,
      "outputs": []
    },
    {
      "cell_type": "code",
      "source": [
        "from google.colab import drive\n",
        "drive.mount('/content/drive')\n",
        "\n",
        "# Generate 10x1000 synthetic ICU patients\n",
        "simulate_hirid_dataset('/content/drive/MyDrive/TRACE_SYNTHETIC_FULL/', num_runs=10, patients_per_run=1000)\n",
        "\n",
        "# Later: Load first 2 runs\n",
        "X_data = load_synthetic_batches('/content/drive/MyDrive/TRACE_SYNTHETIC_FULL/', runs_to_load=[3,4])\n",
        "\n",
        "print(X_data.shape)  # Should be (2000, 10, max_timesteps)"
      ],
      "metadata": {
        "colab": {
          "base_uri": "https://localhost:8080/"
        },
        "collapsed": true,
        "id": "9zfED7aAn2UR",
        "outputId": "8c3e5206-dd69-4d89-b537-ed0f95805a79"
      },
      "execution_count": 45,
      "outputs": [
        {
          "output_type": "stream",
          "name": "stdout",
          "text": [
            "Drive already mounted at /content/drive; to attempt to forcibly remount, call drive.mount(\"/content/drive\", force_remount=True).\n",
            "Generating run 1/10...\n"
          ]
        },
        {
          "output_type": "stream",
          "name": "stderr",
          "text": [
            "100%|██████████| 1000/1000 [00:03<00:00, 291.36it/s]\n"
          ]
        },
        {
          "output_type": "stream",
          "name": "stdout",
          "text": [
            "Saved run 0: X shape (1000, 10, 4032), y shape (1000,), longevity labels shape (1000,)\n",
            "Generating run 2/10...\n"
          ]
        },
        {
          "output_type": "stream",
          "name": "stderr",
          "text": [
            "100%|██████████| 1000/1000 [00:01<00:00, 614.22it/s]\n"
          ]
        },
        {
          "output_type": "stream",
          "name": "stdout",
          "text": [
            "Saved run 1: X shape (1000, 10, 4032), y shape (1000,), longevity labels shape (1000,)\n",
            "Generating run 3/10...\n"
          ]
        },
        {
          "output_type": "stream",
          "name": "stderr",
          "text": [
            "100%|██████████| 1000/1000 [00:01<00:00, 636.08it/s]\n"
          ]
        },
        {
          "output_type": "stream",
          "name": "stdout",
          "text": [
            "Saved run 2: X shape (1000, 10, 4032), y shape (1000,), longevity labels shape (1000,)\n",
            "Generating run 4/10...\n"
          ]
        },
        {
          "output_type": "stream",
          "name": "stderr",
          "text": [
            "100%|██████████| 1000/1000 [00:04<00:00, 244.40it/s]\n"
          ]
        },
        {
          "output_type": "stream",
          "name": "stdout",
          "text": [
            "Saved run 3: X shape (1000, 10, 4032), y shape (1000,), longevity labels shape (1000,)\n",
            "Generating run 5/10...\n"
          ]
        },
        {
          "output_type": "stream",
          "name": "stderr",
          "text": [
            "100%|██████████| 1000/1000 [00:02<00:00, 385.47it/s]\n"
          ]
        },
        {
          "output_type": "stream",
          "name": "stdout",
          "text": [
            "Saved run 4: X shape (1000, 10, 4032), y shape (1000,), longevity labels shape (1000,)\n",
            "Generating run 6/10...\n"
          ]
        },
        {
          "output_type": "stream",
          "name": "stderr",
          "text": [
            "100%|██████████| 1000/1000 [00:01<00:00, 576.27it/s]\n"
          ]
        },
        {
          "output_type": "stream",
          "name": "stdout",
          "text": [
            "Saved run 5: X shape (1000, 10, 4032), y shape (1000,), longevity labels shape (1000,)\n",
            "Generating run 7/10...\n"
          ]
        },
        {
          "output_type": "stream",
          "name": "stderr",
          "text": [
            "100%|██████████| 1000/1000 [00:01<00:00, 502.46it/s]\n"
          ]
        },
        {
          "output_type": "stream",
          "name": "stdout",
          "text": [
            "Saved run 6: X shape (1000, 10, 4032), y shape (1000,), longevity labels shape (1000,)\n",
            "Generating run 8/10...\n"
          ]
        },
        {
          "output_type": "stream",
          "name": "stderr",
          "text": [
            "100%|██████████| 1000/1000 [00:01<00:00, 581.94it/s]\n"
          ]
        },
        {
          "output_type": "stream",
          "name": "stdout",
          "text": [
            "Saved run 7: X shape (1000, 10, 4032), y shape (1000,), longevity labels shape (1000,)\n",
            "Generating run 9/10...\n"
          ]
        },
        {
          "output_type": "stream",
          "name": "stderr",
          "text": [
            "100%|██████████| 1000/1000 [00:01<00:00, 519.20it/s]\n"
          ]
        },
        {
          "output_type": "stream",
          "name": "stdout",
          "text": [
            "Saved run 8: X shape (1000, 10, 4032), y shape (1000,), longevity labels shape (1000,)\n",
            "Generating run 10/10...\n"
          ]
        },
        {
          "output_type": "stream",
          "name": "stderr",
          "text": [
            "100%|██████████| 1000/1000 [00:02<00:00, 462.44it/s]\n"
          ]
        },
        {
          "output_type": "stream",
          "name": "stdout",
          "text": [
            "Saved run 9: X shape (1000, 10, 4032), y shape (1000,), longevity labels shape (1000,)\n",
            "Loading run 3 from /content/drive/MyDrive/TRACE_SYNTHETIC_FULL/run_3\n",
            "Loading run 4 from /content/drive/MyDrive/TRACE_SYNTHETIC_FULL/run_4\n",
            "Total shape after loading: (2000, 10, 4032)\n",
            "(2000, 10, 4032)\n"
          ]
        }
      ]
    },
    {
      "cell_type": "code",
      "execution_count": 46,
      "metadata": {
        "id": "rMqv0l-vjnKF"
      },
      "outputs": [],
      "source": [
        "# imports needed for data recreation\n",
        "import torch\n",
        "import torch.nn as nn\n",
        "import torch.nn.functional as F\n",
        "from torch.utils.data import Dataset, DataLoader\n",
        "import numpy as np\n",
        "import os\n",
        "from tqdm import tqdm\n",
        "import matplotlib.pyplot as plt\n",
        "from sklearn.manifold import TSNE\n",
        "from sklearn.preprocessing import StandardScaler\n",
        "from sklearn.model_selection import train_test_split\n",
        "from sklearn.linear_model import LogisticRegression\n",
        "from sklearn.ensemble import RandomForestClassifier\n",
        "from sklearn.neighbors import KNeighborsClassifier\n",
        "from sklearn.metrics import accuracy_score, confusion_matrix, classification_report\n"
      ]
    },
    {
      "cell_type": "code",
      "source": [
        "# This function will simulate ICU data based on what the hirid\n",
        "# data looks like, it also adds labels based on the paper\n",
        "# (BibiTex format)\n",
        "# title = \t {Learning Unsupervised Representations for ICU Timeseries},\n",
        "# author =       {Weatherhead, Addison and Greer, Robert and Moga, Michael-Alice and Mazwi, Mjaye and Eytan, Danny and Goldenberg, Anna and Tonekaboni, Sana},\n",
        "# booktitle = \t {Proceedings of the Conference on Health, Inference, and Learning},\n",
        "# pages = \t {152--168},\n",
        "# year = \t {2022},\n",
        "# editor = \t {Flores, Gerardo and Chen, George H and Pollard, Tom and Ho, Joyce C and Naumann, Tristan},\n",
        "# volume = \t {174},\n",
        "# series = \t {Proceedings of Machine Learning Research},\n",
        "# month = \t {07--08 Apr},\n",
        "# publisher =    {PMLR},\n",
        "# pdf = \t {https://proceedings.mlr.press/v174/weatherhead22a/weatherhead22a.pdf},\n",
        "# url = \t {https://proceedings.mlr.press/v174/weatherhead22a.html},\n",
        "# abstract = \t {Medical time series like physiological signals provide a rich source of information about patients’ underlying clinical states. Learning such states is a challenging problem for ML but has great utility for clinical applications. It allows us to identify patients with similar underlying conditions, track disease progression over time, and much more. The challenge with medical time series however, is the lack of well-defined labels for a given patient’s state for extended periods of time. Collecting such labels is expensive and often requires substantial effort. In this work, we propose an unsupervised representation learning method, called TRACE, that allows us to learn meaningful patient representations from time series collected in the Intensive Care Unit (ICU). We show the utility and generalizability of these representations in identifying different downstream clinical conditions and also show how the trajectory of representations over time exhibits progression toward critical conditions such as cardiopulmonary arrest or circulatory failure.}\n",
        "\n",
        "\n",
        "def simulate_hirid_patient_realistic_with_labels(seed=None, out_label=False):\n",
        "    if seed is not None:\n",
        "        np.random.seed(seed)\n",
        "\n",
        "    duration_days = np.random.randint(1, 15)\n",
        "    timesteps = duration_days * 24 * 12  # 5-min intervals\n",
        "    time_index = np.arange(0, timesteps * 5, 5)\n",
        "\n",
        "    heart_rate = np.random.normal(80, 10, timesteps)\n",
        "    map_pressure = np.random.normal(75, 8, timesteps)\n",
        "    respiratory_rate = np.random.normal(18, 3, timesteps)\n",
        "    spo2 = np.random.normal(97, 2, timesteps)\n",
        "    temperature = np.random.normal(37.0, 0.5, timesteps)\n",
        "    lactate = np.random.normal(1.2, 0.4, timesteps)\n",
        "    creatinine = np.random.normal(1.0, 0.3, timesteps)\n",
        "    glucose = np.random.normal(110, 20, timesteps)\n",
        "    vasopressor_rate = np.zeros(timesteps)\n",
        "    mech_ventilation = np.zeros(timesteps)\n",
        "\n",
        "    label = 0  # 0 = healthy\n",
        "\n",
        "    # Shock\n",
        "    shock_start = np.random.randint(timesteps // 4, timesteps // 2)\n",
        "    shock_duration = np.random.randint(100, 500)\n",
        "    if shock_start + shock_duration > timesteps:\n",
        "        shock_duration = timesteps - shock_start\n",
        "    if shock_duration > 0:\n",
        "        heart_rate[shock_start:shock_start+shock_duration] += np.random.normal(10, 3, shock_duration)\n",
        "        map_pressure[shock_start:shock_start+shock_duration] -= np.random.normal(10, 3, shock_duration)\n",
        "        lactate[shock_start:shock_start+shock_duration] += np.random.normal(2, 0.5, shock_duration)\n",
        "        vasopressor_rate[shock_start:shock_start+shock_duration] = np.random.uniform(0.05, 0.2)\n",
        "        label = 1\n",
        "\n",
        "    # Resp Failure\n",
        "    if np.random.rand() < 0.5 and timesteps > 1000:\n",
        "        resp_failure_start = np.random.randint(timesteps // 2, timesteps - 500)\n",
        "        resp_failure_duration = np.random.randint(100, 400)\n",
        "        if resp_failure_start + resp_failure_duration > timesteps:\n",
        "            resp_failure_duration = timesteps - resp_failure_start\n",
        "        if resp_failure_duration > 0:\n",
        "            spo2[resp_failure_start:resp_failure_start+resp_failure_duration] -= np.random.normal(10, 3, resp_failure_duration)\n",
        "            respiratory_rate[resp_failure_start:resp_failure_start+resp_failure_duration] += np.random.normal(5, 2, resp_failure_duration)\n",
        "            mech_ventilation[resp_failure_start:resp_failure_start+resp_failure_duration] = 1\n",
        "            label = 2  # Overwrite label if respiratory failure present\n",
        "\n",
        "    drift = np.cumsum(np.random.normal(0, 0.01, timesteps))\n",
        "    heart_rate += drift\n",
        "    map_pressure += np.random.normal(0, 0.5, timesteps)\n",
        "    respiratory_rate += np.random.normal(0, 0.5, timesteps)\n",
        "\n",
        "    heart_rate = np.clip(heart_rate, 30, 200).astype(int)\n",
        "    map_pressure = np.clip(map_pressure, 30, 130).astype(int)\n",
        "    respiratory_rate = np.clip(respiratory_rate, 5, 50).astype(int)\n",
        "    spo2 = np.clip(spo2, 70, 100).astype(int)\n",
        "    temperature = np.clip(temperature, 35.0, 41.0)\n",
        "    lactate = np.clip(lactate, 0.5, 15.0)\n",
        "    creatinine = np.clip(creatinine, 0.2, 5.0)\n",
        "    glucose = np.clip(glucose, 40, 400).astype(int)\n",
        "\n",
        "    vasopressor_rate = np.round(vasopressor_rate, 3)\n",
        "    mech_ventilation = mech_ventilation.astype(int)\n",
        "\n",
        "    patient = np.stack([\n",
        "        heart_rate,\n",
        "        map_pressure,\n",
        "        respiratory_rate,\n",
        "        spo2,\n",
        "        temperature,\n",
        "        lactate,\n",
        "        creatinine,\n",
        "        glucose,\n",
        "        vasopressor_rate,\n",
        "        mech_ventilation\n",
        "    ], axis=0)\n",
        "\n",
        "    # Add missingness\n",
        "    missing_rate = np.random.uniform(0.05, 0.15)\n",
        "    missing_mask = np.random.rand(*patient.shape) < missing_rate\n",
        "    patient[missing_mask] = 0\n",
        "\n",
        "    if np.random.rand() < 0.1:\n",
        "        for _ in range(np.random.randint(1, 3)):\n",
        "            block_signal = np.random.randint(0, patient.shape[0])\n",
        "            block_start = np.random.randint(0, max(1, patient.shape[1] - 200))\n",
        "            block_length = np.random.randint(50, 200)\n",
        "            patient[block_signal, block_start:block_start+block_length] = 0\n",
        "\n",
        "    if out_label:\n",
        "        return patient, label\n",
        "    else:\n",
        "        return patient\n"
      ],
      "metadata": {
        "id": "KobwuiHujsDD"
      },
      "execution_count": 47,
      "outputs": []
    },
    {
      "cell_type": "code",
      "source": [
        "def simulate_hirid_dataset(save_dir, num_runs=1, patients_per_run=1000):\n",
        "    os.makedirs(save_dir, exist_ok=True)\n",
        "\n",
        "    for run_idx in range(num_runs):\n",
        "        print(f'Generating run {run_idx+1}/{num_runs}...')\n",
        "        patients = []\n",
        "        labels = []\n",
        "\n",
        "        for _ in tqdm(range(patients_per_run)):\n",
        "            patient, label = simulate_hirid_patient_realistic_with_labels(out_label=True)\n",
        "            patients.append(patient)\n",
        "            labels.append(label)\n",
        "\n",
        "        max_length = max([p.shape[1] for p in patients])\n",
        "\n",
        "        padded_patients = []\n",
        "        for patient in patients:\n",
        "            pad_width = max_length - patient.shape[1]\n",
        "            padded_patient = np.pad(patient, ((0, 0), (0, pad_width)), 'constant')\n",
        "            padded_patients.append(padded_patient)\n",
        "\n",
        "        X_run = np.stack(padded_patients)\n",
        "        y_run = np.array(labels)\n",
        "\n",
        "        run_folder = os.path.join(save_dir, f'run_{run_idx}')\n",
        "        os.makedirs(run_folder, exist_ok=True)\n",
        "        np.save(os.path.join(run_folder, 'X.npy'), X_run)\n",
        "        np.save(os.path.join(run_folder, 'y.npy'), y_run)\n",
        "        print(f'Saved run {run_idx}: X shape {X_run.shape}, y shape {y_run.shape}')\n"
      ],
      "metadata": {
        "id": "8y_m5A26kFUw"
      },
      "execution_count": 48,
      "outputs": []
    },
    {
      "cell_type": "code",
      "source": [
        "class RichSyntheticICUDataset(Dataset):\n",
        "    def __init__(self, data_folder):\n",
        "        self.X = np.load(os.path.join(data_folder, 'X.npy'))\n",
        "        self.y = np.load(os.path.join(data_folder, 'y.npy'))\n",
        "        self.X = torch.tensor(self.X, dtype=torch.float32)\n",
        "        self.y = torch.tensor(self.y, dtype=torch.long)\n",
        "\n",
        "    def __len__(self):\n",
        "        return len(self.X)\n",
        "\n",
        "    def __getitem__(self, idx):\n",
        "        return self.X[idx], self.y[idx]\n"
      ],
      "metadata": {
        "id": "6uR4EFIIkG1b"
      },
      "execution_count": 49,
      "outputs": []
    },
    {
      "cell_type": "code",
      "source": [
        "class TRACEEncoderMasked(nn.Module):\n",
        "    def __init__(self, input_channels=10, latent_dim=128):\n",
        "        super(TRACEEncoderMasked, self).__init__()\n",
        "        self.encoder = nn.Sequential(\n",
        "            nn.Conv1d(input_channels, 64, kernel_size=5, stride=2, padding=2),\n",
        "            nn.ReLU(),\n",
        "            nn.Conv1d(64, 128, kernel_size=5, stride=2, padding=2),\n",
        "            nn.ReLU(),\n",
        "            nn.AdaptiveAvgPool1d(1)\n",
        "        )\n",
        "        self.fc = nn.Linear(128, latent_dim)\n",
        "        self.decoder = nn.Sequential(\n",
        "            nn.Linear(latent_dim, input_channels)\n",
        "        )\n",
        "\n",
        "    def forward(self, x, mask=None):\n",
        "        x_input = x.clone()\n",
        "        if mask is not None:\n",
        "            x_input = x_input * mask\n",
        "        encoded = self.encoder(x_input)\n",
        "        encoded = encoded.squeeze(-1)\n",
        "        latent = self.fc(encoded)\n",
        "        reconstructed = self.decoder(latent)\n",
        "        return reconstructed, latent\n",
        "\n",
        "def generate_random_mask(batch_shape, mask_ratio=0.15):\n",
        "    batch_size, channels, timesteps = batch_shape\n",
        "    mask = torch.ones(batch_size, channels, timesteps)\n",
        "    num_total = channels * timesteps\n",
        "    num_mask = int(mask_ratio * num_total)\n",
        "    for b in range(batch_size):\n",
        "        idx = torch.randperm(num_total)[:num_mask]\n",
        "        coords = np.unravel_index(idx.numpy(), (channels, timesteps))\n",
        "        mask[b, coords[0], coords[1]] = 0\n",
        "    return mask\n",
        "\n",
        "def masked_mse_loss(y_pred, y_true, mask):\n",
        "    mask = (mask.sum(dim=2) > 0).float()\n",
        "    loss = (mask * (y_pred - y_true)**2).sum() / (mask.sum() + 1e-6)\n",
        "    return loss\n",
        "\n",
        "def train_trace_masked_model(model, train_loader, num_epochs=20, lr=0.001, mask_ratio=0.15, device='cuda'):\n",
        "    optimizer = torch.optim.Adam(model.parameters(), lr=lr)\n",
        "    model = model.to(device)\n",
        "    model.train()\n",
        "    for epoch in range(num_epochs):\n",
        "        total_loss = 0.0\n",
        "        count_batches = 0\n",
        "        for X_batch, _ in train_loader:\n",
        "            X_batch = X_batch.to(device)\n",
        "            mask = generate_random_mask(X_batch.shape, mask_ratio=mask_ratio).to(device)\n",
        "            reconstructed, _ = model(X_batch, mask)\n",
        "            X_target = X_batch.mean(dim=2)\n",
        "            loss = masked_mse_loss(reconstructed, X_target, mask)\n",
        "            optimizer.zero_grad()\n",
        "            loss.backward()\n",
        "            optimizer.step()\n",
        "            total_loss += loss.item()\n",
        "            count_batches += 1\n",
        "        avg_loss = total_loss / count_batches\n",
        "        print(f'Epoch [{epoch+1}/{num_epochs}] Loss: {avg_loss:.6f}')\n",
        "    print('Training finished!')\n",
        "    return model\n"
      ],
      "metadata": {
        "id": "-klPF8FqkH5b"
      },
      "execution_count": 50,
      "outputs": []
    },
    {
      "cell_type": "code",
      "source": [
        "def extract_embeddings_and_labels(model, data_loader, device='cuda'):\n",
        "    model = model.to(device)\n",
        "    model.eval()\n",
        "\n",
        "    all_embeddings = []\n",
        "    all_labels = []\n",
        "\n",
        "    with torch.no_grad():\n",
        "        for X_batch, y_batch in data_loader:\n",
        "            X_batch = X_batch.to(device)\n",
        "            _, latent = model(X_batch, mask=None)  # no masking during inference\n",
        "            all_embeddings.append(latent.cpu().numpy())\n",
        "            all_labels.append(y_batch.numpy())\n",
        "\n",
        "    all_embeddings = np.vstack(all_embeddings)\n",
        "    all_labels = np.concatenate(all_labels)\n",
        "\n",
        "    print(f'Embeddings shape: {all_embeddings.shape}')\n",
        "    print(f'Labels shape: {all_labels.shape}')\n",
        "\n",
        "    return all_embeddings, all_labels\n"
      ],
      "metadata": {
        "id": "8FJ1m6xFkQxH"
      },
      "execution_count": 51,
      "outputs": []
    },
    {
      "cell_type": "code",
      "source": [
        "def plot_tsne(embeddings, labels=None):\n",
        "    scaler = StandardScaler()\n",
        "    embeddings_scaled = scaler.fit_transform(embeddings)\n",
        "\n",
        "    tsne = TSNE(n_components=2, random_state=42, perplexity=30)\n",
        "    embeddings_2d = tsne.fit_transform(embeddings_scaled)\n",
        "\n",
        "    plt.figure(figsize=(10, 8))\n",
        "\n",
        "    if labels is not None:\n",
        "        unique_labels = np.unique(labels)\n",
        "        colors = ['blue', 'red', 'green', 'purple', 'orange']\n",
        "        for idx, label in enumerate(unique_labels):\n",
        "            mask = labels == label\n",
        "            plt.scatter(embeddings_2d[mask, 0], embeddings_2d[mask, 1], label=f'Label {label}', alpha=0.6, s=10, c=colors[idx % len(colors)])\n",
        "        plt.legend()\n",
        "    else:\n",
        "        plt.scatter(embeddings_2d[:, 0], embeddings_2d[:, 1], alpha=0.6, s=10)\n",
        "\n",
        "    plt.title('t-SNE Projection of TRACE Embeddings')\n",
        "    plt.xlabel('Dimension 1')\n",
        "    plt.ylabel('Dimension 2')\n",
        "    plt.grid(True)\n",
        "    plt.show()\n"
      ],
      "metadata": {
        "id": "mqrMSnnhkSEG"
      },
      "execution_count": 52,
      "outputs": []
    },
    {
      "cell_type": "code",
      "source": [
        "def simple_classifier_experiments(embeddings, labels, num_classes=3):\n",
        "    X_train, X_test, y_train, y_test = train_test_split(embeddings, labels, test_size=0.3, random_state=42, stratify=labels)\n",
        "\n",
        "    classifiers = {\n",
        "        'Logistic Regression': LogisticRegression(max_iter=1000),\n",
        "        'Random Forest': RandomForestClassifier(n_estimators=100),\n",
        "        'k-NN (k=5)': KNeighborsClassifier(n_neighbors=5)\n",
        "    }\n",
        "\n",
        "    results = {}\n",
        "\n",
        "    for name, clf in classifiers.items():\n",
        "        print(f'\\nTraining {name}...')\n",
        "        clf.fit(X_train, y_train)\n",
        "        y_pred = clf.predict(X_test)\n",
        "\n",
        "        acc = accuracy_score(y_test, y_pred)\n",
        "        print(f'Accuracy: {acc:.4f}')\n",
        "        print('Confusion Matrix:')\n",
        "        print(confusion_matrix(y_test, y_pred))\n",
        "        print('Classification Report:')\n",
        "        print(classification_report(y_test, y_pred))\n",
        "\n",
        "        results[name] = acc\n",
        "\n",
        "    print('\\n=== Summary of Classifier Accuracies ===')\n",
        "    for name, acc in results.items():\n",
        "        print(f'{name}: {acc:.4f}')\n"
      ],
      "metadata": {
        "id": "XnuSnqockTVJ"
      },
      "execution_count": 53,
      "outputs": []
    },
    {
      "cell_type": "code",
      "source": [
        "# Assuming you have already generated a run like 'run_0'\n",
        "data_path = '/content/drive/MyDrive/TRACE_SYNTHETIC_FULL/run_0/'\n",
        "\n",
        "# Load the dataset\n",
        "dataset = RichSyntheticICUDataset(data_path)\n",
        "train_loader = DataLoader(dataset, batch_size=32, shuffle=True)\n",
        "\n",
        "# Create the model\n",
        "input_channels = 10  # heart rate, map, etc\n",
        "latent_dim = 128     # same as before\n",
        "model = TRACEEncoderMasked(input_channels=input_channels, latent_dim=latent_dim)\n",
        "\n",
        "device = torch.device('cuda' if torch.cuda.is_available() else 'cpu')\n",
        "\n",
        "# Train TRACE with masked modeling\n",
        "trained_model = train_trace_masked_model(model, train_loader, num_epochs=20, lr=0.001, mask_ratio=0.15, device=device)\n"
      ],
      "metadata": {
        "colab": {
          "base_uri": "https://localhost:8080/"
        },
        "id": "ZgVd-YYkkyhJ",
        "outputId": "0d78a805-7e85-4ff4-f1fb-77db5c418ed4"
      },
      "execution_count": 54,
      "outputs": [
        {
          "output_type": "stream",
          "name": "stdout",
          "text": [
            "Epoch [1/20] Loss: 151.256212\n",
            "Epoch [2/20] Loss: 2.367418\n",
            "Epoch [3/20] Loss: 0.361746\n",
            "Epoch [4/20] Loss: 0.254786\n",
            "Epoch [5/20] Loss: 0.252146\n",
            "Epoch [6/20] Loss: 0.246102\n",
            "Epoch [7/20] Loss: 0.243828\n",
            "Epoch [8/20] Loss: 0.231041\n",
            "Epoch [9/20] Loss: 0.219699\n",
            "Epoch [10/20] Loss: 0.218356\n",
            "Epoch [11/20] Loss: 0.218868\n",
            "Epoch [12/20] Loss: 0.223629\n",
            "Epoch [13/20] Loss: 0.214721\n",
            "Epoch [14/20] Loss: 0.208026\n",
            "Epoch [15/20] Loss: 0.199747\n",
            "Epoch [16/20] Loss: 0.182861\n",
            "Epoch [17/20] Loss: 0.188204\n",
            "Epoch [18/20] Loss: 0.170302\n",
            "Epoch [19/20] Loss: 0.163533\n",
            "Epoch [20/20] Loss: 0.171510\n",
            "Training finished!\n"
          ]
        }
      ]
    },
    {
      "cell_type": "code",
      "source": [
        "# (after model is trained)\n",
        "\n",
        "# Step 1: Extract embeddings + labels\n",
        "embeddings, labels = extract_embeddings_and_labels(trained_model, train_loader, device=device)\n",
        "\n",
        "# Step 2: t-SNE plot\n",
        "plot_tsne(embeddings, labels=labels)\n",
        "\n",
        "# Step 3: Classifier experiments\n",
        "simple_classifier_experiments(embeddings, labels, num_classes=3)\n"
      ],
      "metadata": {
        "colab": {
          "base_uri": "https://localhost:8080/",
          "height": 1000
        },
        "id": "KONVgrKfkVD-",
        "outputId": "27942025-86a1-404b-8437-8709fe2f0ab5"
      },
      "execution_count": 55,
      "outputs": [
        {
          "output_type": "stream",
          "name": "stdout",
          "text": [
            "Embeddings shape: (1000, 128)\n",
            "Labels shape: (1000,)\n"
          ]
        },
        {
          "output_type": "display_data",
          "data": {
            "text/plain": [
              "<Figure size 1000x800 with 1 Axes>"
            ],
            "image/png": "[encoded data removed]"
          },
          "metadata": {}
        },
        {
          "output_type": "stream",
          "name": "stdout",
          "text": [
            "\n",
            "Training Logistic Regression...\n",
            "Accuracy: 0.7467\n",
            "Confusion Matrix:\n",
            "[[107   6  12]\n",
            " [ 17  47  14]\n",
            " [ 19   8  70]]\n",
            "Classification Report:\n",
            "              precision    recall  f1-score   support\n",
            "\n",
            "           0       0.75      0.86      0.80       125\n",
            "           1       0.77      0.60      0.68        78\n",
            "           2       0.73      0.72      0.73        97\n",
            "\n",
            "    accuracy                           0.75       300\n",
            "   macro avg       0.75      0.73      0.73       300\n",
            "weighted avg       0.75      0.75      0.74       300\n",
            "\n",
            "\n",
            "Training Random Forest...\n",
            "Accuracy: 0.5467\n",
            "Confusion Matrix:\n",
            "[[77 20 28]\n",
            " [34 28 16]\n",
            " [26 12 59]]\n",
            "Classification Report:\n",
            "              precision    recall  f1-score   support\n",
            "\n",
            "           0       0.56      0.62      0.59       125\n",
            "           1       0.47      0.36      0.41        78\n",
            "           2       0.57      0.61      0.59        97\n",
            "\n",
            "    accuracy                           0.55       300\n",
            "   macro avg       0.53      0.53      0.53       300\n",
            "weighted avg       0.54      0.55      0.54       300\n",
            "\n",
            "\n",
            "Training k-NN (k=5)...\n",
            "Accuracy: 0.4367\n",
            "Confusion Matrix:\n",
            "[[80 18 27]\n",
            " [47 17 14]\n",
            " [45 18 34]]\n",
            "Classification Report:\n",
            "              precision    recall  f1-score   support\n",
            "\n",
            "           0       0.47      0.64      0.54       125\n",
            "           1       0.32      0.22      0.26        78\n",
            "           2       0.45      0.35      0.40        97\n",
            "\n",
            "    accuracy                           0.44       300\n",
            "   macro avg       0.41      0.40      0.40       300\n",
            "weighted avg       0.42      0.44      0.42       300\n",
            "\n",
            "\n",
            "=== Summary of Classifier Accuracies ===\n",
            "Logistic Regression: 0.7467\n",
            "Random Forest: 0.5467\n",
            "k-NN (k=5): 0.4367\n"
          ]
        }
      ]
    },
    {
      "cell_type": "code",
      "source": [
        "def flatten_raw_timeseries(dataset):\n",
        "    \"\"\"\n",
        "    dataset: RichSyntheticICUDataset (or similar)\n",
        "\n",
        "    Returns:\n",
        "    - flattened_X: (num_patients, channels * timesteps)\n",
        "    - labels: (num_patients,)\n",
        "    \"\"\"\n",
        "    X = dataset.X.numpy()  # shape (patients, channels, timesteps)\n",
        "    y = dataset.y.numpy()  # shape (patients,)\n",
        "\n",
        "    num_patients, num_channels, num_timesteps = X.shape\n",
        "    flattened_X = X.reshape(num_patients, num_channels * num_timesteps)\n",
        "\n",
        "    return flattened_X, y\n"
      ],
      "metadata": {
        "id": "-JWCyHwb5Y0M"
      },
      "execution_count": 56,
      "outputs": []
    },
    {
      "cell_type": "code",
      "source": [
        "def raw_signal_classifier_experiments(flattened_X, labels, num_classes=3):\n",
        "    X_train, X_test, y_train, y_test = train_test_split(\n",
        "        flattened_X, labels, test_size=0.3, random_state=42, stratify=labels\n",
        "    )\n",
        "\n",
        "    classifiers = {\n",
        "        'Logistic Regression (Raw)': LogisticRegression(max_iter=1000),\n",
        "        'Random Forest (Raw)': RandomForestClassifier(n_estimators=100),\n",
        "        'k-NN (Raw) (k=5)': KNeighborsClassifier(n_neighbors=5)\n",
        "    }\n",
        "\n",
        "    results = {}\n",
        "\n",
        "    for name, clf in classifiers.items():\n",
        "        print(f'\\nTraining {name}...')\n",
        "        clf.fit(X_train, y_train)\n",
        "        y_pred = clf.predict(X_test)\n",
        "\n",
        "        acc = accuracy_score(y_test, y_pred)\n",
        "        print(f'Accuracy: {acc:.4f}')\n",
        "        print('Confusion Matrix:')\n",
        "        print(confusion_matrix(y_test, y_pred))\n",
        "        print('Classification Report:')\n",
        "        print(classification_report(y_test, y_pred))\n",
        "\n",
        "        results[name] = acc\n",
        "\n",
        "    print('\\n=== Summary of Raw Classifier Accuracies ===')\n",
        "    for name, acc in results.items():\n",
        "        print(f'{name}: {acc:.4f}')\n"
      ],
      "metadata": {
        "id": "DvLJydAF5a4t"
      },
      "execution_count": 57,
      "outputs": []
    },
    {
      "cell_type": "code",
      "source": [
        "# Step 1: Flatten raw timeseries\n",
        "flattened_X, raw_labels = flatten_raw_timeseries(dataset)\n",
        "\n",
        "# Step 2: Run classifiers\n",
        "raw_signal_classifier_experiments(flattened_X, raw_labels, num_classes=3)\n"
      ],
      "metadata": {
        "colab": {
          "base_uri": "https://localhost:8080/"
        },
        "id": "B6iSlrDo5dQh",
        "outputId": "92d2d84a-7257-4940-a3d9-b65e89804db0"
      },
      "execution_count": 58,
      "outputs": [
        {
          "output_type": "stream",
          "name": "stdout",
          "text": [
            "\n",
            "Training Logistic Regression (Raw)...\n",
            "Accuracy: 0.4867\n",
            "Confusion Matrix:\n",
            "[[75 18 32]\n",
            " [26 22 30]\n",
            " [26 22 49]]\n",
            "Classification Report:\n",
            "              precision    recall  f1-score   support\n",
            "\n",
            "           0       0.59      0.60      0.60       125\n",
            "           1       0.35      0.28      0.31        78\n",
            "           2       0.44      0.51      0.47        97\n",
            "\n",
            "    accuracy                           0.49       300\n",
            "   macro avg       0.46      0.46      0.46       300\n",
            "weighted avg       0.48      0.49      0.48       300\n",
            "\n",
            "\n",
            "Training Random Forest (Raw)...\n",
            "Accuracy: 0.8733\n",
            "Confusion Matrix:\n",
            "[[125   0   0]\n",
            " [ 11  61   6]\n",
            " [ 13   8  76]]\n",
            "Classification Report:\n",
            "              precision    recall  f1-score   support\n",
            "\n",
            "           0       0.84      1.00      0.91       125\n",
            "           1       0.88      0.78      0.83        78\n",
            "           2       0.93      0.78      0.85        97\n",
            "\n",
            "    accuracy                           0.87       300\n",
            "   macro avg       0.88      0.86      0.86       300\n",
            "weighted avg       0.88      0.87      0.87       300\n",
            "\n",
            "\n",
            "Training k-NN (Raw) (k=5)...\n",
            "Accuracy: 0.4067\n",
            "Confusion Matrix:\n",
            "[[89 21 15]\n",
            " [48 17 13]\n",
            " [60 21 16]]\n",
            "Classification Report:\n",
            "              precision    recall  f1-score   support\n",
            "\n",
            "           0       0.45      0.71      0.55       125\n",
            "           1       0.29      0.22      0.25        78\n",
            "           2       0.36      0.16      0.23        97\n",
            "\n",
            "    accuracy                           0.41       300\n",
            "   macro avg       0.37      0.36      0.34       300\n",
            "weighted avg       0.38      0.41      0.37       300\n",
            "\n",
            "\n",
            "=== Summary of Raw Classifier Accuracies ===\n",
            "Logistic Regression (Raw): 0.4867\n",
            "Random Forest (Raw): 0.8733\n",
            "k-NN (Raw) (k=5): 0.4067\n"
          ]
        }
      ]
    },
    {
      "cell_type": "code",
      "source": [
        "def small_random_forest_test(flattened_X, labels):\n",
        "    X_train, X_test, y_train, y_test = train_test_split(\n",
        "        flattened_X, labels, test_size=0.3, random_state=42, stratify=labels\n",
        "    )\n",
        "\n",
        "    clf = RandomForestClassifier(n_estimators=10, random_state=42)\n",
        "    clf.fit(X_train, y_train)\n",
        "    y_pred = clf.predict(X_test)\n",
        "\n",
        "    acc = accuracy_score(y_test, y_pred)\n",
        "    print(f'Accuracy with 10 trees: {acc:.4f}')\n",
        "    print('Confusion Matrix:')\n",
        "    print(confusion_matrix(y_test, y_pred))\n",
        "    print('Classification Report:')\n",
        "    print(classification_report(y_test, y_pred))\n"
      ],
      "metadata": {
        "id": "sHI0yg_B6bD6"
      },
      "execution_count": 59,
      "outputs": []
    },
    {
      "cell_type": "code",
      "source": [
        "def add_gaussian_noise(flattened_X, noise_std=0.05):\n",
        "    noise = np.random.normal(0, noise_std, size=flattened_X.shape)\n",
        "    noisy_X = flattened_X + noise\n",
        "    return noisy_X\n"
      ],
      "metadata": {
        "id": "Wl3jrhGt6b1h"
      },
      "execution_count": 60,
      "outputs": []
    },
    {
      "cell_type": "code",
      "source": [
        "def random_feature_dropout(flattened_X, drop_rate=0.1):\n",
        "    X_copy = flattened_X.copy()\n",
        "    num_features = X_copy.shape[1]\n",
        "    num_drop = int(num_features * drop_rate)\n",
        "    drop_indices = np.random.choice(num_features, size=num_drop, replace=False)\n",
        "    X_copy[:, drop_indices] = 0\n",
        "    return X_copy\n"
      ],
      "metadata": {
        "id": "N1Z6_4_v6dxz"
      },
      "execution_count": 61,
      "outputs": []
    },
    {
      "cell_type": "code",
      "source": [
        "flattened_X, raw_labels = flatten_raw_timeseries(dataset)\n",
        "\n",
        "small_random_forest_test(flattened_X, raw_labels)\n"
      ],
      "metadata": {
        "colab": {
          "base_uri": "https://localhost:8080/"
        },
        "id": "aNINTnkl6gmQ",
        "outputId": "09467f57-8ff0-4590-b4a5-22de836b63ee"
      },
      "execution_count": 62,
      "outputs": [
        {
          "output_type": "stream",
          "name": "stdout",
          "text": [
            "Accuracy with 10 trees: 0.7600\n",
            "Confusion Matrix:\n",
            "[[119   3   3]\n",
            " [ 16  45  17]\n",
            " [ 22  11  64]]\n",
            "Classification Report:\n",
            "              precision    recall  f1-score   support\n",
            "\n",
            "           0       0.76      0.95      0.84       125\n",
            "           1       0.76      0.58      0.66        78\n",
            "           2       0.76      0.66      0.71        97\n",
            "\n",
            "    accuracy                           0.76       300\n",
            "   macro avg       0.76      0.73      0.74       300\n",
            "weighted avg       0.76      0.76      0.75       300\n",
            "\n"
          ]
        }
      ]
    },
    {
      "cell_type": "code",
      "source": [
        "noisy_X = add_gaussian_noise(flattened_X, noise_std=0.1)\n",
        "\n",
        "small_random_forest_test(noisy_X, raw_labels)\n"
      ],
      "metadata": {
        "colab": {
          "base_uri": "https://localhost:8080/"
        },
        "id": "n6t3oXvl6jcb",
        "outputId": "47020fb8-77b3-44fb-bd33-944e1ff8e308"
      },
      "execution_count": 63,
      "outputs": [
        {
          "output_type": "stream",
          "name": "stdout",
          "text": [
            "Accuracy with 10 trees: 0.7033\n",
            "Confusion Matrix:\n",
            "[[111   2  12]\n",
            " [ 22  42  14]\n",
            " [ 25  14  58]]\n",
            "Classification Report:\n",
            "              precision    recall  f1-score   support\n",
            "\n",
            "           0       0.70      0.89      0.78       125\n",
            "           1       0.72      0.54      0.62        78\n",
            "           2       0.69      0.60      0.64        97\n",
            "\n",
            "    accuracy                           0.70       300\n",
            "   macro avg       0.71      0.67      0.68       300\n",
            "weighted avg       0.70      0.70      0.69       300\n",
            "\n"
          ]
        }
      ]
    },
    {
      "cell_type": "code",
      "source": [
        "dropped_X = random_feature_dropout(flattened_X, drop_rate=0.1)\n",
        "\n",
        "small_random_forest_test(dropped_X, raw_labels)\n"
      ],
      "metadata": {
        "colab": {
          "base_uri": "https://localhost:8080/"
        },
        "id": "iWLzQKos6wLp",
        "outputId": "929041a4-c3a8-48da-88d7-5847fcf9ffc6"
      },
      "execution_count": 64,
      "outputs": [
        {
          "output_type": "stream",
          "name": "stdout",
          "text": [
            "Accuracy with 10 trees: 0.8333\n",
            "Confusion Matrix:\n",
            "[[121   0   4]\n",
            " [  8  59  11]\n",
            " [ 17  10  70]]\n",
            "Classification Report:\n",
            "              precision    recall  f1-score   support\n",
            "\n",
            "           0       0.83      0.97      0.89       125\n",
            "           1       0.86      0.76      0.80        78\n",
            "           2       0.82      0.72      0.77        97\n",
            "\n",
            "    accuracy                           0.83       300\n",
            "   macro avg       0.84      0.82      0.82       300\n",
            "weighted avg       0.83      0.83      0.83       300\n",
            "\n"
          ]
        }
      ]
    },
    {
      "cell_type": "code",
      "source": [
        "def create_fake_transfer_labels(labels, num_new_classes=3):\n",
        "    \"\"\"\n",
        "    Creates a new random set of labels for transfer learning simulation.\n",
        "    \"\"\"\n",
        "    np.random.seed(42)\n",
        "    new_labels = np.random.randint(0, num_new_classes, size=len(labels))\n",
        "    return new_labels\n"
      ],
      "metadata": {
        "id": "k7e4zvSL7Wjp"
      },
      "execution_count": 65,
      "outputs": []
    },
    {
      "cell_type": "code",
      "source": [
        "class TransferClassifier(nn.Module):\n",
        "    def __init__(self, encoder, latent_dim=128, num_classes=3):\n",
        "        super(TransferClassifier, self).__init__()\n",
        "        self.encoder = encoder\n",
        "        self.fc = nn.Linear(latent_dim, num_classes)\n",
        "\n",
        "    def forward(self, x):\n",
        "        with torch.no_grad():\n",
        "            latent = self.encoder.encoder(x)  # Only encoder feature extractor\n",
        "            latent = latent.squeeze(-1)\n",
        "            latent = self.encoder.fc(latent)\n",
        "        out = self.fc(latent)\n",
        "        return out\n"
      ],
      "metadata": {
        "id": "28_wpNoK7WaS"
      },
      "execution_count": 66,
      "outputs": []
    },
    {
      "cell_type": "code",
      "source": [
        "def train_transfer_classifier(model, train_loader, new_labels, num_epochs=20, lr=0.001, device='cuda'):\n",
        "    optimizer = torch.optim.Adam(model.parameters(), lr=lr)\n",
        "    criterion = nn.CrossEntropyLoss()\n",
        "\n",
        "    model = model.to(device)\n",
        "    model.train()\n",
        "\n",
        "    all_labels = torch.tensor(new_labels, dtype=torch.long)\n",
        "\n",
        "    for epoch in range(num_epochs):\n",
        "        running_loss = 0.0\n",
        "        correct = 0\n",
        "        total = 0\n",
        "        idx = 0\n",
        "\n",
        "        for X_batch, _ in train_loader:\n",
        "            batch_size = X_batch.size(0)\n",
        "            y_batch = all_labels[idx:idx+batch_size]\n",
        "            idx += batch_size\n",
        "\n",
        "            X_batch = X_batch.to(device)\n",
        "            y_batch = y_batch.to(device)\n",
        "\n",
        "            optimizer.zero_grad()\n",
        "            outputs = model(X_batch)\n",
        "            loss = criterion(outputs, y_batch)\n",
        "            loss.backward()\n",
        "            optimizer.step()\n",
        "\n",
        "            running_loss += loss.item()\n",
        "            _, predicted = torch.max(outputs.data, 1)\n",
        "            total += y_batch.size(0)\n",
        "            correct += (predicted == y_batch).sum().item()\n",
        "\n",
        "        epoch_loss = running_loss / len(train_loader)\n",
        "        epoch_acc = 100 * correct / total\n",
        "        print(f'Epoch [{epoch+1}/{num_epochs}] Loss: {epoch_loss:.4f} Accuracy: {epoch_acc:.2f}%')\n",
        "\n",
        "    print('Finished Transfer Training!')\n"
      ],
      "metadata": {
        "id": "a9UT-KZf7aRw"
      },
      "execution_count": 67,
      "outputs": []
    },
    {
      "cell_type": "code",
      "source": [
        "# Step 1: Extract embeddings and labels\n",
        "embeddings, labels = extract_embeddings_and_labels(trained_model, train_loader, device=device)\n",
        "\n",
        "# Step 2: Create new fake task\n",
        "new_transfer_labels = create_fake_transfer_labels(labels, num_new_classes=3)\n",
        "\n",
        "# Step 3: Setup transfer classifier\n",
        "transfer_model = TransferClassifier(trained_model, latent_dim=128, num_classes=3)\n",
        "\n",
        "# Step 4: Train\n",
        "train_transfer_classifier(transfer_model, train_loader, new_transfer_labels, num_epochs=20, lr=0.001, device=device)\n"
      ],
      "metadata": {
        "colab": {
          "base_uri": "https://localhost:8080/"
        },
        "id": "zJwLLx0u7cDT",
        "outputId": "979306ed-5301-49bb-9ccc-e4d4bc92d1d7"
      },
      "execution_count": 68,
      "outputs": [
        {
          "output_type": "stream",
          "name": "stdout",
          "text": [
            "Embeddings shape: (1000, 128)\n",
            "Labels shape: (1000,)\n",
            "Epoch [1/20] Loss: 1.5970 Accuracy: 32.00%\n",
            "Epoch [2/20] Loss: 1.1431 Accuracy: 34.70%\n",
            "Epoch [3/20] Loss: 1.1664 Accuracy: 36.20%\n",
            "Epoch [4/20] Loss: 1.1565 Accuracy: 35.10%\n",
            "Epoch [5/20] Loss: 1.1570 Accuracy: 33.10%\n",
            "Epoch [6/20] Loss: 1.1493 Accuracy: 34.40%\n",
            "Epoch [7/20] Loss: 1.1621 Accuracy: 33.70%\n",
            "Epoch [8/20] Loss: 1.1565 Accuracy: 34.50%\n",
            "Epoch [9/20] Loss: 1.1311 Accuracy: 33.40%\n",
            "Epoch [10/20] Loss: 1.1543 Accuracy: 33.90%\n",
            "Epoch [11/20] Loss: 1.1972 Accuracy: 33.20%\n",
            "Epoch [12/20] Loss: 1.1661 Accuracy: 33.40%\n",
            "Epoch [13/20] Loss: 1.1495 Accuracy: 31.60%\n",
            "Epoch [14/20] Loss: 1.1334 Accuracy: 33.60%\n",
            "Epoch [15/20] Loss: 1.1538 Accuracy: 31.80%\n",
            "Epoch [16/20] Loss: 1.1307 Accuracy: 33.30%\n",
            "Epoch [17/20] Loss: 1.1617 Accuracy: 32.10%\n",
            "Epoch [18/20] Loss: 1.1666 Accuracy: 34.20%\n",
            "Epoch [19/20] Loss: 1.1416 Accuracy: 34.90%\n",
            "Epoch [20/20] Loss: 1.1415 Accuracy: 34.70%\n",
            "Finished Transfer Training!\n"
          ]
        }
      ]
    },
    {
      "cell_type": "code",
      "source": [
        "# ==========================\n",
        "# Longevity Transfer Learning Experiment\n",
        "# ==========================\n",
        "\n",
        "# Step 1: Load Data\n",
        "import numpy as np\n",
        "import torch\n",
        "from torch import nn\n",
        "from torch.utils.data import DataLoader\n",
        "\n",
        "# Path where your run is stored\n",
        "data_path = '/content/drive/MyDrive/TRACE_SYNTHETIC_FULL/run_0/'  # Change if needed!\n",
        "\n",
        "# Load\n",
        "X = np.load(data_path + 'X.npy')  # (patients, channels, timesteps)\n",
        "longevity_labels = np.load(data_path + 'longevity_labels.npy')  # (patients,)\n",
        "\n",
        "print(f'Data Loaded: X.shape={X.shape}, longevity_labels.shape={longevity_labels.shape}')\n",
        "\n",
        "# Step 2: Build Dataset and DataLoader\n",
        "class LongevityDataset(torch.utils.data.Dataset):\n",
        "    def __init__(self, X, y):\n",
        "        self.X = torch.tensor(X, dtype=torch.float32)\n",
        "        self.y = torch.tensor(y, dtype=torch.long)\n",
        "\n",
        "    def __len__(self):\n",
        "        return len(self.X)\n",
        "\n",
        "    def __getitem__(self, idx):\n",
        "        return self.X[idx], self.y[idx]\n",
        "\n",
        "longevity_dataset = LongevityDataset(X, longevity_labels)\n",
        "longevity_loader = DataLoader(longevity_dataset, batch_size=32, shuffle=True)\n",
        "\n",
        "# Step 3: Build Transfer Classifier (Freeze Encoder)\n",
        "class TransferClassifier(nn.Module):\n",
        "    def __init__(self, encoder, latent_dim=128, num_classes=2):\n",
        "        super(TransferClassifier, self).__init__()\n",
        "        self.encoder = encoder\n",
        "        self.fc = nn.Linear(latent_dim, num_classes)\n",
        "\n",
        "    def forward(self, x):\n",
        "        with torch.no_grad():\n",
        "            latent = self.encoder.encoder(x)  # Use TRACE encoder part\n",
        "            latent = latent.squeeze(-1)\n",
        "            latent = self.encoder.fc(latent)\n",
        "        out = self.fc(latent)\n",
        "        return out\n",
        "\n",
        "# Step 4: Setup Transfer Classifier\n",
        "device = torch.device('cuda' if torch.cuda.is_available() else 'cpu')\n",
        "\n",
        "transfer_model = TransferClassifier(trained_model, latent_dim=128, num_classes=2).to(device)\n",
        "\n",
        "# Step 5: Fine-Tune on Longevity Labels\n",
        "def train_transfer_classifier(model, loader, labels, num_epochs=20, lr=0.001, device='cuda'):\n",
        "    optimizer = torch.optim.Adam(model.parameters(), lr=lr)\n",
        "    criterion = nn.CrossEntropyLoss()\n",
        "\n",
        "    model.train()\n",
        "    labels = torch.tensor(labels, dtype=torch.long)\n",
        "\n",
        "    for epoch in range(num_epochs):\n",
        "        running_loss = 0.0\n",
        "        correct = 0\n",
        "        total = 0\n",
        "        idx = 0\n",
        "\n",
        "        for X_batch, _ in loader:\n",
        "            batch_size = X_batch.size(0)\n",
        "            y_batch = labels[idx:idx+batch_size]\n",
        "            idx += batch_size\n",
        "\n",
        "            X_batch = X_batch.to(device)\n",
        "            y_batch = y_batch.to(device)\n",
        "\n",
        "            optimizer.zero_grad()\n",
        "            outputs = model(X_batch)\n",
        "            loss = criterion(outputs, y_batch)\n",
        "            loss.backward()\n",
        "            optimizer.step()\n",
        "\n",
        "            running_loss += loss.item()\n",
        "            _, predicted = torch.max(outputs.data, 1)\n",
        "            total += y_batch.size(0)\n",
        "            correct += (predicted == y_batch).sum().item()\n",
        "\n",
        "        epoch_loss = running_loss / len(loader)\n",
        "        epoch_acc = 100 * correct / total\n",
        "        print(f'Epoch [{epoch+1}/{num_epochs}] Loss: {epoch_loss:.4f} Accuracy: {epoch_acc:.2f}%')\n",
        "\n",
        "    print('Finished Longevity Transfer Training!')\n",
        "\n",
        "# Step 6: Launch Training\n",
        "train_transfer_classifier(transfer_model, longevity_loader, longevity_labels, num_epochs=20, lr=0.001, device=device)\n"
      ],
      "metadata": {
        "colab": {
          "base_uri": "https://localhost:8080/"
        },
        "id": "bVv4Rhi1Bacj",
        "outputId": "65425927-580c-432b-e3df-b4757048fcf3"
      },
      "execution_count": 69,
      "outputs": [
        {
          "output_type": "stream",
          "name": "stdout",
          "text": [
            "Data Loaded: X.shape=(1000, 10, 4032), longevity_labels.shape=(1000,)\n",
            "Epoch [1/20] Loss: 1.6229 Accuracy: 49.30%\n",
            "Epoch [2/20] Loss: 0.7018 Accuracy: 52.60%\n",
            "Epoch [3/20] Loss: 0.7298 Accuracy: 51.50%\n",
            "Epoch [4/20] Loss: 0.7052 Accuracy: 50.60%\n",
            "Epoch [5/20] Loss: 0.7685 Accuracy: 51.70%\n",
            "Epoch [6/20] Loss: 0.7191 Accuracy: 51.50%\n",
            "Epoch [7/20] Loss: 0.7041 Accuracy: 51.70%\n",
            "Epoch [8/20] Loss: 0.7498 Accuracy: 49.20%\n",
            "Epoch [9/20] Loss: 0.7402 Accuracy: 51.60%\n",
            "Epoch [10/20] Loss: 0.7405 Accuracy: 50.50%\n",
            "Epoch [11/20] Loss: 0.7166 Accuracy: 48.30%\n",
            "Epoch [12/20] Loss: 0.7328 Accuracy: 49.90%\n",
            "Epoch [13/20] Loss: 0.7318 Accuracy: 49.20%\n",
            "Epoch [14/20] Loss: 0.7436 Accuracy: 50.90%\n",
            "Epoch [15/20] Loss: 0.7628 Accuracy: 49.40%\n",
            "Epoch [16/20] Loss: 0.7336 Accuracy: 50.90%\n",
            "Epoch [17/20] Loss: 0.7524 Accuracy: 50.10%\n",
            "Epoch [18/20] Loss: 0.7831 Accuracy: 49.50%\n",
            "Epoch [19/20] Loss: 0.7387 Accuracy: 49.50%\n",
            "Epoch [20/20] Loss: 0.7446 Accuracy: 49.20%\n",
            "Finished Longevity Transfer Training!\n"
          ]
        }
      ]
    },
    {
      "cell_type": "code",
      "source": [
        "# ==========================\n",
        "# Longevity Transfer Learning Evaluation\n",
        "# ==========================\n",
        "\n",
        "from sklearn.metrics import accuracy_score, confusion_matrix, classification_report\n",
        "\n",
        "# Step 1: Switch to eval mode\n",
        "transfer_model.eval()\n",
        "\n",
        "all_preds = []\n",
        "all_true = []\n",
        "\n",
        "with torch.no_grad():\n",
        "    for X_batch, y_batch in longevity_loader:\n",
        "        X_batch = X_batch.to(device)\n",
        "        outputs = transfer_model(X_batch)\n",
        "        _, predicted = torch.max(outputs.data, 1)\n",
        "\n",
        "        all_preds.extend(predicted.cpu().numpy())\n",
        "        all_true.extend(y_batch.numpy())\n",
        "\n",
        "# Step 2: Compute Metrics\n",
        "acc = accuracy_score(all_true, all_preds)\n",
        "cm = confusion_matrix(all_true, all_preds)\n",
        "report = classification_report(all_true, all_preds)\n",
        "\n",
        "print(f'Final Longevity Prediction Accuracy: {acc:.4f}')\n",
        "print('Confusion Matrix:')\n",
        "print(cm)\n",
        "print('Classification Report:')\n",
        "print(report)\n"
      ],
      "metadata": {
        "colab": {
          "base_uri": "https://localhost:8080/"
        },
        "id": "MlYTrF5MBrtb",
        "outputId": "723635f2-f243-4594-be94-415b7ae6f5b8"
      },
      "execution_count": 70,
      "outputs": [
        {
          "output_type": "stream",
          "name": "stdout",
          "text": [
            "Final Longevity Prediction Accuracy: 0.5000\n",
            "Confusion Matrix:\n",
            "[[  0 500]\n",
            " [  0 500]]\n",
            "Classification Report:\n",
            "              precision    recall  f1-score   support\n",
            "\n",
            "           0       0.00      0.00      0.00       500\n",
            "           1       0.50      1.00      0.67       500\n",
            "\n",
            "    accuracy                           0.50      1000\n",
            "   macro avg       0.25      0.50      0.33      1000\n",
            "weighted avg       0.25      0.50      0.33      1000\n",
            "\n"
          ]
        },
        {
          "output_type": "stream",
          "name": "stderr",
          "text": [
            "/usr/local/lib/python3.11/dist-packages/sklearn/metrics/_classification.py:1565: UndefinedMetricWarning: Precision is ill-defined and being set to 0.0 in labels with no predicted samples. Use `zero_division` parameter to control this behavior.\n",
            "  _warn_prf(average, modifier, f\"{metric.capitalize()} is\", len(result))\n",
            "/usr/local/lib/python3.11/dist-packages/sklearn/metrics/_classification.py:1565: UndefinedMetricWarning: Precision is ill-defined and being set to 0.0 in labels with no predicted samples. Use `zero_division` parameter to control this behavior.\n",
            "  _warn_prf(average, modifier, f\"{metric.capitalize()} is\", len(result))\n",
            "/usr/local/lib/python3.11/dist-packages/sklearn/metrics/_classification.py:1565: UndefinedMetricWarning: Precision is ill-defined and being set to 0.0 in labels with no predicted samples. Use `zero_division` parameter to control this behavior.\n",
            "  _warn_prf(average, modifier, f\"{metric.capitalize()} is\", len(result))\n"
          ]
        }
      ]
    },
    {
      "cell_type": "code",
      "source": [
        "# ==========================\n",
        "# Longevity t-SNE Visualization\n",
        "# ==========================\n",
        "\n",
        "# Step 1: Extract embeddings again if needed\n",
        "embeddings, _ = extract_embeddings_and_labels(trained_model, train_loader, device=device)\n",
        "\n",
        "# (OR reuse all_embeddings if you already have it)\n",
        "\n",
        "# Step 2: Load Longevity Labels\n",
        "longevity_labels = np.load(data_path + 'longevity_labels.npy')\n",
        "\n",
        "# Step 3: Standardize embeddings\n",
        "from sklearn.preprocessing import StandardScaler\n",
        "from sklearn.manifold import TSNE\n",
        "import matplotlib.pyplot as plt\n",
        "\n",
        "scaler = StandardScaler()\n",
        "embeddings_scaled = scaler.fit_transform(embeddings)\n",
        "\n",
        "tsne = TSNE(n_components=2, random_state=42, perplexity=30)\n",
        "embeddings_2d = tsne.fit_transform(embeddings_scaled)\n",
        "\n",
        "# Step 4: Plot\n",
        "plt.figure(figsize=(10, 8))\n",
        "for label, color, name in zip([0, 1], ['red', 'blue'], ['Short-Lived', 'Long-Lived']):\n",
        "    idx = longevity_labels == label\n",
        "    plt.scatter(embeddings_2d[idx, 0], embeddings_2d[idx, 1], c=color, label=name, alpha=0.6, s=10)\n",
        "\n",
        "plt.title('t-SNE Projection of TRACE Embeddings (Longevity Labels)')\n",
        "plt.legend()\n",
        "plt.xlabel('t-SNE Dim 1')\n",
        "plt.ylabel('t-SNE Dim 2')\n",
        "plt.grid(True)\n",
        "plt.show()\n"
      ],
      "metadata": {
        "colab": {
          "base_uri": "https://localhost:8080/",
          "height": 753
        },
        "id": "crKhbDfQB3Y8",
        "outputId": "3bc3c30e-f688-4f77-ba51-65db10da8836"
      },
      "execution_count": 71,
      "outputs": [
        {
          "output_type": "stream",
          "name": "stdout",
          "text": [
            "Embeddings shape: (1000, 128)\n",
            "Labels shape: (1000,)\n"
          ]
        },
        {
          "output_type": "display_data",
          "data": {
            "text/plain": [
              "<Figure size 1000x800 with 1 Axes>"
            ],
            "image/png": "[encoded data removed]"
          },
          "metadata": {}
        }
      ]
    }
  ]
}