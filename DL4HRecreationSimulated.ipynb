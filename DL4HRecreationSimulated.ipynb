{
  "nbformat": 4,
  "nbformat_minor": 0,
  "metadata": {
    "colab": {
      "provenance": [],
      "gpuType": "T4",
      "authorship_tag": "ABX9TyNsAJ7pCqHZ3hwq2K/g/LqO"
    },
    "kernelspec": {
      "name": "python3",
      "display_name": "Python 3"
    },
    "language_info": {
      "name": "python"
    },
    "accelerator": "GPU"
  },
  "cells": [
    {
      "cell_type": "code",
      "execution_count": 7,
      "metadata": {
        "id": "Kjs-0W3nXptA"
      },
      "outputs": [],
      "source": [
        "import os\n",
        "import numpy as np\n",
        "import pandas as pd\n",
        "from tqdm import tqdm\n",
        "\n",
        "import numpy as np\n",
        "import pandas as pd\n",
        "\n",
        "def simulate_hirid_patient_realistic_with_missingness(seed=None):\n",
        "    if seed is not None:\n",
        "        np.random.seed(seed)\n",
        "\n",
        "    # --- Time Setup ---\n",
        "    duration_days = np.random.randint(1, 15)\n",
        "    timesteps = duration_days * 24 * 12  # 5-min intervals\n",
        "    time_index = np.arange(0, timesteps * 5, 5)\n",
        "\n",
        "    # --- Signal Initialization ---\n",
        "    heart_rate = np.random.normal(80, 10, timesteps)\n",
        "    map_pressure = np.random.normal(75, 8, timesteps)\n",
        "    respiratory_rate = np.random.normal(18, 3, timesteps)\n",
        "    spo2 = np.random.normal(97, 2, timesteps)\n",
        "    temperature = np.random.normal(37.0, 0.5, timesteps)\n",
        "    lactate = np.random.normal(1.2, 0.4, timesteps)\n",
        "    creatinine = np.random.normal(1.0, 0.3, timesteps)\n",
        "    glucose = np.random.normal(110, 20, timesteps)\n",
        "    vasopressor_rate = np.zeros(timesteps)\n",
        "    mech_ventilation = np.zeros(timesteps)\n",
        "\n",
        "    # --- Insert Shock Event (Safe) ---\n",
        "    shock_start = np.random.randint(timesteps // 4, timesteps // 2)\n",
        "    shock_duration = np.random.randint(100, 500)\n",
        "\n",
        "    if shock_start + shock_duration > timesteps:\n",
        "        shock_duration = timesteps - shock_start\n",
        "\n",
        "    if shock_duration > 0:\n",
        "        heart_rate[shock_start:shock_start+shock_duration] += np.random.normal(10, 3, shock_duration)\n",
        "        map_pressure[shock_start:shock_start+shock_duration] -= np.random.normal(10, 3, shock_duration)\n",
        "        lactate[shock_start:shock_start+shock_duration] += np.random.normal(2, 0.5, shock_duration)\n",
        "        vasopressor_rate[shock_start:shock_start+shock_duration] = np.random.uniform(0.05, 0.2)\n",
        "\n",
        "    # --- Insert Respiratory Failure (Safe) ---\n",
        "    if np.random.rand() < 0.5 and timesteps > 1000:\n",
        "        resp_failure_start = np.random.randint(timesteps // 2, timesteps - 500)\n",
        "        resp_failure_duration = np.random.randint(100, 400)\n",
        "\n",
        "        if resp_failure_start + resp_failure_duration > timesteps:\n",
        "            resp_failure_duration = timesteps - resp_failure_start\n",
        "\n",
        "        if resp_failure_duration > 0:\n",
        "            spo2[resp_failure_start:resp_failure_start+resp_failure_duration] -= np.random.normal(10, 3, resp_failure_duration)\n",
        "            respiratory_rate[resp_failure_start:resp_failure_start+resp_failure_duration] += np.random.normal(5, 2, resp_failure_duration)\n",
        "            mech_ventilation[resp_failure_start:resp_failure_start+resp_failure_duration] = 1\n",
        "\n",
        "    # --- Add Mild Drift ---\n",
        "    drift = np.cumsum(np.random.normal(0, 0.01, timesteps))\n",
        "    heart_rate += drift\n",
        "    map_pressure += np.random.normal(0, 0.5, timesteps)\n",
        "    respiratory_rate += np.random.normal(0, 0.5, timesteps)\n",
        "\n",
        "    # --- Clamp to Realistic Ranges ---\n",
        "    heart_rate = np.clip(heart_rate, 30, 200).astype(int)\n",
        "    map_pressure = np.clip(map_pressure, 30, 130).astype(int)\n",
        "    respiratory_rate = np.clip(respiratory_rate, 5, 50).astype(int)\n",
        "    spo2 = np.clip(spo2, 70, 100).astype(int)\n",
        "    temperature = np.clip(temperature, 35.0, 41.0)\n",
        "    lactate = np.clip(lactate, 0.5, 15.0)\n",
        "    creatinine = np.clip(creatinine, 0.2, 5.0)\n",
        "    glucose = np.clip(glucose, 40, 400).astype(int)\n",
        "\n",
        "    vasopressor_rate = np.round(vasopressor_rate, 3)\n",
        "    mech_ventilation = mech_ventilation.astype(int)\n",
        "\n",
        "    # --- Stack All Channels ---\n",
        "    patient = np.stack([\n",
        "        heart_rate,\n",
        "        map_pressure,\n",
        "        respiratory_rate,\n",
        "        spo2,\n",
        "        temperature,\n",
        "        lactate,\n",
        "        creatinine,\n",
        "        glucose,\n",
        "        vasopressor_rate,\n",
        "        mech_ventilation\n",
        "    ], axis=0)\n",
        "\n",
        "    # --- Add Missingness (Realistic) ---\n",
        "    # Random missing points\n",
        "    missing_rate = np.random.uniform(0.05, 0.15)\n",
        "    missing_mask = np.random.rand(*patient.shape) < missing_rate\n",
        "    patient[missing_mask] = 0\n",
        "\n",
        "    # Large block missingness\n",
        "    if np.random.rand() < 0.1:\n",
        "        for _ in range(np.random.randint(1, 3)):  # 1-2 blocks\n",
        "            block_signal = np.random.randint(0, patient.shape[0])\n",
        "            block_start = np.random.randint(0, max(1, patient.shape[1] - 200))\n",
        "            block_length = np.random.randint(50, 200)\n",
        "            patient[block_signal, block_start:block_start+block_length] = 0\n",
        "\n",
        "    return patient\n",
        "\n",
        "\n",
        "def simulate_hirid_dataset(save_dir, num_runs=10, patients_per_run=1000):\n",
        "    os.makedirs(save_dir, exist_ok=True)\n",
        "\n",
        "    for run_idx in range(num_runs):\n",
        "        print(f'Generating run {run_idx+1}/{num_runs}...')\n",
        "        patients = []\n",
        "        labels = []  # Optional if you want to generate labels now\n",
        "\n",
        "        for _ in tqdm(range(patients_per_run)):\n",
        "            patient = simulate_hirid_patient_realistic_with_missingness()\n",
        "            patients.append(patient)\n",
        "            # For now no hard labels, but you could append here\n",
        "\n",
        "        max_length = max([p.shape[1] for p in patients])\n",
        "\n",
        "        # Pad all patients\n",
        "        padded_patients = []\n",
        "        for patient in patients:\n",
        "            pad_width = max_length - patient.shape[1]\n",
        "            if pad_width > 0:\n",
        "                padded_patient = np.pad(patient, ((0,0), (0,pad_width)), 'constant')\n",
        "            else:\n",
        "                padded_patient = patient\n",
        "            padded_patients.append(padded_patient)\n",
        "\n",
        "        X_run = np.stack(padded_patients)\n",
        "\n",
        "        run_folder = os.path.join(save_dir, f'run_{run_idx}')\n",
        "        os.makedirs(run_folder, exist_ok=True)\n",
        "        np.save(os.path.join(run_folder, 'X.npy'), X_run)\n",
        "        print(f'Run {run_idx} saved with shape {X_run.shape}')\n"
      ]
    },
    {
      "cell_type": "code",
      "source": [
        "def load_synthetic_batches(base_path, runs_to_load=None):\n",
        "    \"\"\"\n",
        "    base_path: path where all runs are saved\n",
        "    runs_to_load: list of run indices [0, 1, 2] to load, None = load all\n",
        "    \"\"\"\n",
        "    if runs_to_load is None:\n",
        "        runs_to_load = [int(d.split('_')[1]) for d in os.listdir(base_path) if d.startswith('run_')]\n",
        "\n",
        "    all_X = []\n",
        "\n",
        "    for run_idx in runs_to_load:\n",
        "        run_folder = os.path.join(base_path, f'run_{run_idx}')\n",
        "        print(f'Loading run {run_idx} from {run_folder}')\n",
        "        X_batch = np.load(os.path.join(run_folder, 'X.npy'))\n",
        "        all_X.append(X_batch)\n",
        "\n",
        "    X_full = np.concatenate(all_X, axis=0)\n",
        "    print(f'Total shape after loading: {X_full.shape}')\n",
        "    return X_full\n"
      ],
      "metadata": {
        "id": "e1d-Hjn9XuIt"
      },
      "execution_count": 8,
      "outputs": []
    },
    {
      "cell_type": "code",
      "source": [
        "# Generate 10x1000 synthetic ICU patients\n",
        "simulate_hirid_dataset('/content/drive/MyDrive/TRACE_SYNTHETIC_FULL/', num_runs=10, patients_per_run=1000)\n",
        "\n",
        "# Later: Load first 2 runs\n",
        "X_data = load_synthetic_batches('/content/drive/MyDrive/TRACE_SYNTHETIC_FULL/', runs_to_load=[0,1])\n",
        "\n",
        "print(X_data.shape)  # Should be (2000, 10, max_timesteps)\n"
      ],
      "metadata": {
        "colab": {
          "base_uri": "https://localhost:8080/"
        },
        "id": "njviVbYYXyA8",
        "outputId": "b882196a-94df-4b4e-9a9f-a8a1f2d7fb67"
      },
      "execution_count": 9,
      "outputs": [
        {
          "output_type": "stream",
          "name": "stdout",
          "text": [
            "Generating run 1/10...\n"
          ]
        },
        {
          "output_type": "stream",
          "name": "stderr",
          "text": [
            "100%|██████████| 1000/1000 [00:01<00:00, 522.92it/s]\n"
          ]
        },
        {
          "output_type": "stream",
          "name": "stdout",
          "text": [
            "Run 0 saved with shape (1000, 10, 4032)\n",
            "Generating run 2/10...\n"
          ]
        },
        {
          "output_type": "stream",
          "name": "stderr",
          "text": [
            "100%|██████████| 1000/1000 [00:01<00:00, 590.28it/s]\n"
          ]
        },
        {
          "output_type": "stream",
          "name": "stdout",
          "text": [
            "Run 1 saved with shape (1000, 10, 4032)\n",
            "Generating run 3/10...\n"
          ]
        },
        {
          "output_type": "stream",
          "name": "stderr",
          "text": [
            "100%|██████████| 1000/1000 [00:01<00:00, 609.33it/s]\n"
          ]
        },
        {
          "output_type": "stream",
          "name": "stdout",
          "text": [
            "Run 2 saved with shape (1000, 10, 4032)\n",
            "Generating run 4/10...\n"
          ]
        },
        {
          "output_type": "stream",
          "name": "stderr",
          "text": [
            "100%|██████████| 1000/1000 [00:01<00:00, 617.76it/s]\n"
          ]
        },
        {
          "output_type": "stream",
          "name": "stdout",
          "text": [
            "Run 3 saved with shape (1000, 10, 4032)\n",
            "Generating run 5/10...\n"
          ]
        },
        {
          "output_type": "stream",
          "name": "stderr",
          "text": [
            "100%|██████████| 1000/1000 [00:01<00:00, 613.42it/s]\n"
          ]
        },
        {
          "output_type": "stream",
          "name": "stdout",
          "text": [
            "Run 4 saved with shape (1000, 10, 4032)\n",
            "Generating run 6/10...\n"
          ]
        },
        {
          "output_type": "stream",
          "name": "stderr",
          "text": [
            "100%|██████████| 1000/1000 [00:01<00:00, 612.41it/s]\n"
          ]
        },
        {
          "output_type": "stream",
          "name": "stdout",
          "text": [
            "Run 5 saved with shape (1000, 10, 4032)\n",
            "Generating run 7/10...\n"
          ]
        },
        {
          "output_type": "stream",
          "name": "stderr",
          "text": [
            "100%|██████████| 1000/1000 [00:01<00:00, 610.74it/s]\n"
          ]
        },
        {
          "output_type": "stream",
          "name": "stdout",
          "text": [
            "Run 6 saved with shape (1000, 10, 4032)\n",
            "Generating run 8/10...\n"
          ]
        },
        {
          "output_type": "stream",
          "name": "stderr",
          "text": [
            "100%|██████████| 1000/1000 [00:01<00:00, 630.69it/s]\n"
          ]
        },
        {
          "output_type": "stream",
          "name": "stdout",
          "text": [
            "Run 7 saved with shape (1000, 10, 4032)\n",
            "Generating run 9/10...\n"
          ]
        },
        {
          "output_type": "stream",
          "name": "stderr",
          "text": [
            "100%|██████████| 1000/1000 [00:02<00:00, 433.52it/s]\n"
          ]
        },
        {
          "output_type": "stream",
          "name": "stdout",
          "text": [
            "Run 8 saved with shape (1000, 10, 4032)\n",
            "Generating run 10/10...\n"
          ]
        },
        {
          "output_type": "stream",
          "name": "stderr",
          "text": [
            "100%|██████████| 1000/1000 [00:01<00:00, 618.43it/s]\n"
          ]
        },
        {
          "output_type": "stream",
          "name": "stdout",
          "text": [
            "Run 9 saved with shape (1000, 10, 4032)\n",
            "Loading run 0 from /content/drive/MyDrive/TRACE_SYNTHETIC_FULL/run_0\n",
            "Loading run 1 from /content/drive/MyDrive/TRACE_SYNTHETIC_FULL/run_1\n",
            "Total shape after loading: (2000, 10, 4032)\n",
            "(2000, 10, 4032)\n"
          ]
        }
      ]
    },
    {
      "cell_type": "code",
      "source": [
        "import torch\n",
        "from torch.utils.data import Dataset\n",
        "import numpy as np\n",
        "import os\n",
        "\n",
        "class RichSyntheticICUDataset(Dataset):\n",
        "    def __init__(self, data_folder):\n",
        "        \"\"\"\n",
        "        data_folder: Folder containing 'X.npy' for one run\n",
        "        \"\"\"\n",
        "        self.X = np.load(os.path.join(data_folder, 'X.npy'))\n",
        "        self.X = torch.tensor(self.X, dtype=torch.float32)  # [num_patients, channels, timesteps]\n",
        "\n",
        "    def __len__(self):\n",
        "        return len(self.X)\n",
        "\n",
        "    def __getitem__(self, idx):\n",
        "        return self.X[idx]  # Only return X for now (no labels needed)\n"
      ],
      "metadata": {
        "id": "78L35S9JgTpc"
      },
      "execution_count": 10,
      "outputs": []
    },
    {
      "cell_type": "code",
      "source": [
        "import torch.nn as nn\n",
        "\n",
        "class TRACEEncoderMasked(nn.Module):\n",
        "    def __init__(self, input_channels=10, latent_dim=128):\n",
        "        super(TRACEEncoderMasked, self).__init__()\n",
        "\n",
        "        self.encoder = nn.Sequential(\n",
        "            nn.Conv1d(input_channels, 64, kernel_size=5, stride=2, padding=2),\n",
        "            nn.ReLU(),\n",
        "            nn.Conv1d(64, 128, kernel_size=5, stride=2, padding=2),\n",
        "            nn.ReLU(),\n",
        "            nn.AdaptiveAvgPool1d(1)  # Final global pooling over time\n",
        "        )\n",
        "        self.fc = nn.Linear(128, latent_dim)\n",
        "\n",
        "        self.decoder = nn.Sequential(\n",
        "            nn.Linear(latent_dim, input_channels)  # Predict back the input channels\n",
        "        )\n",
        "\n",
        "    def forward(self, x, mask=None):\n",
        "        \"\"\"\n",
        "        x: [batch_size, channels, timesteps]\n",
        "        mask: [batch_size, channels, timesteps] - binary (1=observed, 0=masked)\n",
        "        \"\"\"\n",
        "        x_input = x.clone()\n",
        "\n",
        "        if mask is not None:\n",
        "            x_input = x_input * mask  # apply mask during training\n",
        "\n",
        "        encoded = self.encoder(x_input)  # [batch_size, 128, 1]\n",
        "        encoded = encoded.squeeze(-1)    # [batch_size, 128]\n",
        "        latent = self.fc(encoded)         # [batch_size, latent_dim]\n",
        "\n",
        "        reconstructed = self.decoder(latent)  # [batch_size, input_channels]\n",
        "\n",
        "        return reconstructed, latent\n"
      ],
      "metadata": {
        "id": "OTvMqGiggWRZ"
      },
      "execution_count": 11,
      "outputs": []
    },
    {
      "cell_type": "code",
      "source": [
        "def generate_random_mask(batch_shape, mask_ratio=0.15):\n",
        "    \"\"\"\n",
        "    batch_shape: (batch_size, channels, timesteps)\n",
        "    mask_ratio: float, % of elements to mask\n",
        "    \"\"\"\n",
        "    batch_size, channels, timesteps = batch_shape\n",
        "    mask = torch.ones(batch_size, channels, timesteps)\n",
        "\n",
        "    num_total = channels * timesteps\n",
        "    num_mask = int(mask_ratio * num_total)\n",
        "\n",
        "    for b in range(batch_size):\n",
        "        idx = torch.randperm(num_total)[:num_mask]\n",
        "        coords = np.unravel_index(idx.numpy(), (channels, timesteps))\n",
        "        mask[b, coords[0], coords[1]] = 0  # 0 = masked\n",
        "\n",
        "    return mask\n"
      ],
      "metadata": {
        "id": "Lmt44LZxgYtg"
      },
      "execution_count": 12,
      "outputs": []
    },
    {
      "cell_type": "code",
      "source": [
        "def masked_mse_loss(y_pred, y_true, mask):\n",
        "    \"\"\"\n",
        "    y_pred: [batch_size, channels]\n",
        "    y_true: [batch_size, channels]\n",
        "    mask: [batch_size, channels, timesteps]\n",
        "    \"\"\"\n",
        "    mask = (mask.sum(dim=2) > 0).float()  # Collapse time to feature presence\n",
        "    loss = (mask * (y_pred - y_true)**2).sum() / (mask.sum() + 1e-6)\n",
        "    return loss\n"
      ],
      "metadata": {
        "id": "O0zhAjzTgaz_"
      },
      "execution_count": 13,
      "outputs": []
    },
    {
      "cell_type": "code",
      "source": [
        "def train_trace_masked_model(model, train_loader, num_epochs=20, lr=0.001, mask_ratio=0.15, device='cuda'):\n",
        "    optimizer = torch.optim.Adam(model.parameters(), lr=lr)\n",
        "\n",
        "    model = model.to(device)\n",
        "    model.train()\n",
        "\n",
        "    for epoch in range(num_epochs):\n",
        "        total_loss = 0.0\n",
        "        count_batches = 0\n",
        "\n",
        "        for batch in train_loader:\n",
        "            X_batch = batch.to(device)  # [batch_size, channels, timesteps]\n",
        "\n",
        "            # Generate random mask\n",
        "            mask = generate_random_mask(X_batch.shape, mask_ratio=mask_ratio).to(device)\n",
        "\n",
        "            # Forward pass\n",
        "            reconstructed, _ = model(X_batch, mask)\n",
        "\n",
        "            # Target: mean over timesteps\n",
        "            X_target = X_batch.mean(dim=2)  # [batch_size, channels]\n",
        "\n",
        "            # Compute masked loss\n",
        "            loss = masked_mse_loss(reconstructed, X_target, mask)\n",
        "\n",
        "            optimizer.zero_grad()\n",
        "            loss.backward()\n",
        "            optimizer.step()\n",
        "\n",
        "            total_loss += loss.item()\n",
        "            count_batches += 1\n",
        "\n",
        "        avg_loss = total_loss / count_batches\n",
        "        print(f'Epoch [{epoch+1}/{num_epochs}] Loss: {avg_loss:.6f}')\n",
        "\n",
        "    print('Training finished!')\n",
        "    return model\n"
      ],
      "metadata": {
        "id": "rVEUohoUgdnD"
      },
      "execution_count": 14,
      "outputs": []
    },
    {
      "cell_type": "code",
      "source": [
        "def extract_embeddings(model, data_loader, device='cuda'):\n",
        "    model = model.to(device)\n",
        "    model.eval()\n",
        "\n",
        "    all_embeddings = []\n",
        "\n",
        "    with torch.no_grad():\n",
        "        for batch in data_loader:\n",
        "            X_batch = batch.to(device)\n",
        "            _, latent = model(X_batch, mask=None)  # No masking during inference\n",
        "            all_embeddings.append(latent.cpu().numpy())\n",
        "\n",
        "    all_embeddings = np.vstack(all_embeddings)\n",
        "    return all_embeddings\n"
      ],
      "metadata": {
        "id": "GUPtHvkAgf4D"
      },
      "execution_count": 15,
      "outputs": []
    },
    {
      "cell_type": "code",
      "source": [
        "from torch.utils.data import DataLoader, Dataset\n",
        "\n",
        "# Setup Dataset and Loader\n",
        "data_path = '/content/drive/MyDrive/TRACE_SYNTHETIC_FULL/run_0/'\n",
        "dataset = RichSyntheticICUDataset(data_path)\n",
        "train_loader = DataLoader(dataset, batch_size=32, shuffle=True)\n",
        "\n",
        "# Model\n",
        "model = TRACEEncoderMasked(input_channels=10, latent_dim=128)\n",
        "\n",
        "# Device\n",
        "device = torch.device('cuda' if torch.cuda.is_available() else 'cpu')\n",
        "\n",
        "# Train\n",
        "trained_model = train_trace_masked_model(model, train_loader, num_epochs=20, device=device)\n",
        "\n",
        "# Extract Embeddings\n",
        "embeddings = extract_embeddings(trained_model, train_loader, device=device)\n",
        "print(f'Embeddings shape: {embeddings.shape}')\n"
      ],
      "metadata": {
        "colab": {
          "base_uri": "https://localhost:8080/"
        },
        "id": "8BnLrlyJgjKk",
        "outputId": "15842b96-ceb7-4853-9324-2273ca094bd6"
      },
      "execution_count": 18,
      "outputs": [
        {
          "output_type": "stream",
          "name": "stdout",
          "text": [
            "Epoch [1/20] Loss: 202.160843\n",
            "Epoch [2/20] Loss: 3.484921\n",
            "Epoch [3/20] Loss: 0.448437\n",
            "Epoch [4/20] Loss: 0.328717\n",
            "Epoch [5/20] Loss: 0.329233\n",
            "Epoch [6/20] Loss: 0.323569\n",
            "Epoch [7/20] Loss: 0.331046\n",
            "Epoch [8/20] Loss: 0.292454\n",
            "Epoch [9/20] Loss: 0.277877\n",
            "Epoch [10/20] Loss: 0.273560\n",
            "Epoch [11/20] Loss: 0.265423\n",
            "Epoch [12/20] Loss: 0.253239\n",
            "Epoch [13/20] Loss: 0.247214\n",
            "Epoch [14/20] Loss: 0.232207\n",
            "Epoch [15/20] Loss: 0.213722\n",
            "Epoch [16/20] Loss: 0.187552\n",
            "Epoch [17/20] Loss: 0.179721\n",
            "Epoch [18/20] Loss: 0.165261\n",
            "Epoch [19/20] Loss: 0.179245\n",
            "Epoch [20/20] Loss: 0.170151\n",
            "Training finished!\n",
            "Embeddings shape: (1000, 128)\n"
          ]
        }
      ]
    },
    {
      "cell_type": "code",
      "source": [
        "from sklearn.manifold import TSNE\n",
        "import matplotlib.pyplot as plt\n",
        "from sklearn.preprocessing import StandardScaler\n",
        "\n",
        "def plot_tsne(embeddings, labels=None):\n",
        "    \"\"\"\n",
        "    embeddings: (num_samples, latent_dim)\n",
        "    labels: optional, if you have ground-truth labels (for color-coding)\n",
        "    \"\"\"\n",
        "    scaler = StandardScaler()\n",
        "    embeddings_scaled = scaler.fit_transform(embeddings)\n",
        "\n",
        "    tsne = TSNE(n_components=2, random_state=42, perplexity=30)\n",
        "    embeddings_2d = tsne.fit_transform(embeddings_scaled)\n",
        "\n",
        "    plt.figure(figsize=(10, 8))\n",
        "\n",
        "    if labels is not None:\n",
        "        for label in np.unique(labels):\n",
        "            idx = labels == label\n",
        "            plt.scatter(embeddings_2d[idx, 0], embeddings_2d[idx, 1], label=f'Label {label}', alpha=0.6, s=10)\n",
        "        plt.legend()\n",
        "    else:\n",
        "        plt.scatter(embeddings_2d[:, 0], embeddings_2d[:, 1], alpha=0.6, s=10)\n",
        "\n",
        "    plt.title('t-SNE projection of TRACE embeddings')\n",
        "    plt.xlabel('Dimension 1')\n",
        "    plt.ylabel('Dimension 2')\n",
        "    plt.grid(True)\n",
        "    plt.show()\n"
      ],
      "metadata": {
        "id": "D4Chmew0h1Zm"
      },
      "execution_count": 19,
      "outputs": []
    },
    {
      "cell_type": "code",
      "source": [
        "from sklearn.model_selection import train_test_split\n",
        "from sklearn.linear_model import LogisticRegression\n",
        "from sklearn.ensemble import RandomForestClassifier\n",
        "from sklearn.neighbors import KNeighborsClassifier\n",
        "from sklearn.metrics import accuracy_score, classification_report, confusion_matrix\n",
        "\n",
        "def simple_classifier_experiments(embeddings, num_classes=3):\n",
        "    \"\"\"\n",
        "    embeddings: patient latent vectors\n",
        "    For now we randomly generate fake labels for the purpose of testing pipeline\n",
        "    (since we don't have ground-truth from synthetic data yet)\n",
        "    \"\"\"\n",
        "    # Random labels (for now)\n",
        "    np.random.seed(42)\n",
        "    labels = np.random.randint(0, num_classes, size=embeddings.shape[0])\n",
        "\n",
        "    X_train, X_test, y_train, y_test = train_test_split(embeddings, labels, test_size=0.3, random_state=42, stratify=labels)\n",
        "\n",
        "    classifiers = {\n",
        "        'Logistic Regression': LogisticRegression(max_iter=1000),\n",
        "        'Random Forest': RandomForestClassifier(n_estimators=100),\n",
        "        'k-NN (k=5)': KNeighborsClassifier(n_neighbors=5)\n",
        "    }\n",
        "\n",
        "    results = {}\n",
        "\n",
        "    for name, clf in classifiers.items():\n",
        "        print(f'\\nTraining {name}...')\n",
        "        clf.fit(X_train, y_train)\n",
        "        y_pred = clf.predict(X_test)\n",
        "\n",
        "        acc = accuracy_score(y_test, y_pred)\n",
        "        print(f'Accuracy: {acc:.4f}')\n",
        "        print('Confusion Matrix:')\n",
        "        print(confusion_matrix(y_test, y_pred))\n",
        "        print('Classification Report:')\n",
        "        print(classification_report(y_test, y_pred))\n",
        "\n",
        "        results[name] = acc\n",
        "\n",
        "    print('\\n=== Summary of Classifier Accuracies ===')\n",
        "    for name, acc in results.items():\n",
        "        print(f'{name}: {acc:.4f}')\n"
      ],
      "metadata": {
        "id": "DIV2CH0nh4BN"
      },
      "execution_count": 20,
      "outputs": []
    },
    {
      "cell_type": "code",
      "source": [
        "plot_tsne(embeddings)\n",
        "simple_classifier_experiments(embeddings, num_classes=3)\n"
      ],
      "metadata": {
        "colab": {
          "base_uri": "https://localhost:8080/",
          "height": 1000
        },
        "id": "k_-Dkiggh6V1",
        "outputId": "c90571db-6643-4a0c-d7ac-cc3c393ad511"
      },
      "execution_count": 21,
      "outputs": [
        {
          "output_type": "display_data",
          "data": {
            "text/plain": [
              "<Figure size 1000x800 with 1 Axes>"
            ],
            "image/png": "[encoded data removed]"
          },
          "metadata": {}
        },
        {
          "output_type": "stream",
          "name": "stdout",
          "text": [
            "\n",
            "Training Logistic Regression...\n",
            "Accuracy: 0.3933\n",
            "Confusion Matrix:\n",
            "[[59 22 25]\n",
            " [50 30 18]\n",
            " [45 22 29]]\n",
            "Classification Report:\n",
            "              precision    recall  f1-score   support\n",
            "\n",
            "           0       0.38      0.56      0.45       106\n",
            "           1       0.41      0.31      0.35        98\n",
            "           2       0.40      0.30      0.35        96\n",
            "\n",
            "    accuracy                           0.39       300\n",
            "   macro avg       0.40      0.39      0.38       300\n",
            "weighted avg       0.40      0.39      0.38       300\n",
            "\n",
            "\n",
            "Training Random Forest...\n",
            "Accuracy: 0.3333\n",
            "Confusion Matrix:\n",
            "[[44 30 32]\n",
            " [37 30 31]\n",
            " [42 28 26]]\n",
            "Classification Report:\n",
            "              precision    recall  f1-score   support\n",
            "\n",
            "           0       0.36      0.42      0.38       106\n",
            "           1       0.34      0.31      0.32        98\n",
            "           2       0.29      0.27      0.28        96\n",
            "\n",
            "    accuracy                           0.33       300\n",
            "   macro avg       0.33      0.33      0.33       300\n",
            "weighted avg       0.33      0.33      0.33       300\n",
            "\n",
            "\n",
            "Training k-NN (k=5)...\n",
            "Accuracy: 0.3467\n",
            "Confusion Matrix:\n",
            "[[59 28 19]\n",
            " [50 28 20]\n",
            " [58 21 17]]\n",
            "Classification Report:\n",
            "              precision    recall  f1-score   support\n",
            "\n",
            "           0       0.35      0.56      0.43       106\n",
            "           1       0.36      0.29      0.32        98\n",
            "           2       0.30      0.18      0.22        96\n",
            "\n",
            "    accuracy                           0.35       300\n",
            "   macro avg       0.34      0.34      0.33       300\n",
            "weighted avg       0.34      0.35      0.33       300\n",
            "\n",
            "\n",
            "=== Summary of Classifier Accuracies ===\n",
            "Logistic Regression: 0.3933\n",
            "Random Forest: 0.3333\n",
            "k-NN (k=5): 0.3467\n"
          ]
        }
      ]
    }
  ]
}